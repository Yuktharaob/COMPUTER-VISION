{
 "cells": [
  {
   "cell_type": "markdown",
   "id": "9dd727b7-58af-4387-b3fd-fd843397e39d",
   "metadata": {},
   "source": [
    "# PROGRAM 01"
   ]
  },
  {
   "cell_type": "markdown",
   "id": "69b95e5a-8b31-464d-a925-9500c4ff6600",
   "metadata": {},
   "source": [
    "**Render this effect for a square source and a *single occluder*, casting a shadow onto an infinite plane. For a fixed geometry, you should find that as the number of point sources goes up, the quantization error goes down.**"
   ]
  },
  {
   "cell_type": "markdown",
   "id": "226494f1-5e3f-4043-b302-a1ac85cc866e",
   "metadata": {},
   "source": [
    "To achieve the effect of rendering shadows cast by a square source onto an infinite plane with a single occluder, you can use Python packages that are well-suited for graphics and rendering tasks. Here are some suggestions:\r\n",
    "\r\n",
    "1. **Pygame**: A set of Python modules designed for writing video games. It can be used for 2D graphics and can help you simulate the shadow effect.\r\n",
    "\r\n",
    "2. **Matplotlib**: While primarily used for plotting, it can also be used to create simple 2D graphics and visualize the shadow effects.\r\n",
    "\r\n",
    "3. **Pillow**: A Python Imaging Library that can be used to manipulate images and create effects like shadows.\r\n",
    "\r\n",
    "4. **OpenGL**: If you want to delve into more complex 3D rendering, you can use PyOpenGL, which is a Python binding to OpenGL.\r\n",
    "\r\n",
    "5. **Blender**: For more advanced rendering, you can use Blender's Python API to create realistic shadows and lighting effects.\r\n",
    "\r\n",
    "To implement the effect, you would typically set up a scene with a square light source, an occluder (like a rectangle), and an infinite plane. As you increase the number of point sources, you would calculate the shadows cast by each source and combine them, which would reduce quantization error in the shadow rendering"
   ]
  },
  {
   "cell_type": "code",
   "execution_count": 17,
   "id": "7111905f-f792-461d-8fad-255909ef04b8",
   "metadata": {},
   "outputs": [
    {
     "data": {
      "image/png": "[encoded data removed]",
      "text/plain": [
       "<Figure size 2000x500 with 4 Axes>"
      ]
     },
     "metadata": {},
     "output_type": "display_data"
    }
   ],
   "source": [
    "import numpy as np\n",
    "import matplotlib.pyplot as plt\n",
    "\n",
    "# Function to compute the shadow intensity on the plane\n",
    "def compute_shadow_intensity(occluder_center, occluder_size, plane_size, num_point_sources):\n",
    "    # Initialize the intensity grid for the shadow on the plane\n",
    "    shadow_intensity = np.zeros((plane_size, plane_size))\n",
    "\n",
    "    # Calculate the coordinates for each point source in the grid\n",
    "    source_grid_size = int(np.sqrt(num_point_sources))\n",
    "    x_sources = np.linspace(-0.5, 0.5, source_grid_size)\n",
    "    y_sources = np.linspace(-0.5, 0.5, source_grid_size)\n",
    "\n",
    "    for x_s in x_sources:\n",
    "        for y_s in y_sources:\n",
    "            # Offset the source coordinates relative to the occluder center\n",
    "            source_position = np.array([occluder_center[0] + x_s, occluder_center[1] + y_s])\n",
    "\n",
    "            # Iterate over each pixel on the plane and compute if it is in shadow\n",
    "            for i in range(plane_size):\n",
    "                for j in range(plane_size):\n",
    "                    plane_point = np.array([i / plane_size - 0.5, j / plane_size - 0.5])\n",
    "                    # Check if the point is in the shadow of the occluder\n",
    "                    occluder_bounds = [\n",
    "                        occluder_center[0] - occluder_size / 2,\n",
    "                        occluder_center[0] + occluder_size / 2,\n",
    "                        occluder_center[1] - occluder_size / 2,\n",
    "                        occluder_center[1] + occluder_size / 2,\n",
    "                    ]\n",
    "                    if (\n",
    "                        occluder_bounds[0] <= plane_point[0] <= occluder_bounds[1]\n",
    "                        and occluder_bounds[2] <= plane_point[1] <= occluder_bounds[3]\n",
    "                    ):\n",
    "                        shadow_intensity[i, j] += 1\n",
    "\n",
    "    # Normalize the intensity to the range [0, 1]\n",
    "    shadow_intensity /= num_point_sources\n",
    "    return shadow_intensity\n",
    "\n",
    "# Parameters\n",
    "occluder_center = (0, 0)  # Center of the occluder\n",
    "occluder_size = 0.2  # Size of the occluder\n",
    "plane_size = 200  # Resolution of the plane\n",
    "num_sources_list = [1, 4, 16, 64]  # Different numbers of point sources\n",
    "\n",
    "# Plotting shadows for different numbers of point sources\n",
    "fig, axes = plt.subplots(1, len(num_sources_list), figsize=(20, 5))\n",
    "for idx, num_sources in enumerate(num_sources_list):\n",
    "    shadow_intensity = compute_shadow_intensity(occluder_center, occluder_size, plane_size, num_sources)\n",
    "    axes[idx].imshow(shadow_intensity, cmap='gray', origin='lower')\n",
    "    axes[idx].set_title(f'{num_sources} Point Sources')\n",
    "    axes[idx].axis('off')\n",
    "\n",
    "plt.show()"
   ]
  },
  {
   "cell_type": "markdown",
   "id": "9e723ea8-30d4-4dea-b8ed-3e152781687b",
   "metadata": {},
   "source": [
    "# EXPLANATION\n",
    "The code snippet is part of a function that calculates the shadow intensity on a 2D plane caused by an occluder when illuminated by multiple point light sources. Here’s a detailed breakdown of the code:\n",
    "\n",
    "### 1. **Source Coordinates Generation**"
   ]
  },
  {
   "cell_type": "markdown",
   "id": "20832377-d5ec-415e-aa90-d360dc5e2713",
   "metadata": {},
   "source": [
    "**y_sources = np.linspace(-0.5, 0.5, source_grid_size)**"
   ]
  },
  {
   "cell_type": "markdown",
   "id": "a4f47144-321a-4a77-a81a-caa70dde3732",
   "metadata": {},
   "source": [
    "- This line generates an array of y-coordinates for the point sources, evenly spaced between -0.5 and 0.5. The number of points is determined by `source_grid_size`.\n",
    "\n",
    "### 2. **Iterating Over Point Sources**"
   ]
  },
  {
   "cell_type": "markdown",
   "id": "8c94922c-b8e6-4baa-aa5d-b5846b05626b",
   "metadata": {},
   "source": [
    "**for x_s in x_sources:\n",
    "    for y_s in y_sources:**"
   ]
  },
  {
   "cell_type": "markdown",
   "id": "86defed8-1f03-474c-84bd-ee5fe49b5345",
   "metadata": {},
   "source": [
    "- Two nested loops iterate over the x and y coordinates of the point sources. Each combination of `(x_s, y_s)` represents a position of a light source relative to the occluder.\n",
    "\n",
    "### 3. **Calculating Source Position**"
   ]
  },
  {
   "cell_type": "markdown",
   "id": "769ca6dc-c72e-4391-a09d-e2bf4f1f33b1",
   "metadata": {},
   "source": [
    "**source_position = np.array([occluder_center[0] + x_s, occluder_center[1] + y_s])**"
   ]
  },
  {
   "cell_type": "markdown",
   "id": "f5462cfd-6ec8-4c4b-b992-b466310acd2e",
   "metadata": {},
   "source": [
    "- The position of each point source is calculated by offsetting the occluder's center by the current `(x_s, y_s)` values. This gives the absolute position of the light source in the coordinate system.\n",
    "\n",
    "### 4. **Iterating Over Pixels on the Plane**"
   ]
  },
  {
   "cell_type": "markdown",
   "id": "3b5f9f26-3051-42ba-a8ad-e607cb6608b2",
   "metadata": {},
   "source": [
    "**for i in range(plane_size):\n",
    "    for j in range(plane_size):**"
   ]
  },
  {
   "cell_type": "markdown",
   "id": "36571302-4543-4072-869d-b4905e5ad171",
   "metadata": {},
   "source": [
    "- These nested loops iterate over each pixel on the plane, where `i` and `j` represent the pixel indices.\n",
    "\n",
    "### 5. **Calculating Pixel Position**"
   ]
  },
  {
   "cell_type": "markdown",
   "id": "5993b5c3-6bb1-47b4-99aa-4b454d4c03ca",
   "metadata": {},
   "source": [
    "**plane_point = np.array([i / plane_size - 0.5, j / plane_size - 0.5])**"
   ]
  },
  {
   "cell_type": "markdown",
   "id": "458d22f6-06b2-4b14-a848-c9acd573a8a3",
   "metadata": {},
   "source": [
    "- The position of the current pixel is calculated by normalizing the indices `i` and `j` to a range of -0.5 to 0.5. This positions the pixel in the same coordinate system as the occluder and point sources.\n",
    "\n",
    "### 6. **Defining Occluder Bounds**"
   ]
  },
  {
   "cell_type": "markdown",
   "id": "2a968cc3-c773-45ec-91f0-b6fb476c6f8a",
   "metadata": {},
   "source": [
    "**occluder_bounds = [\n",
    "    occluder_center[0] - occluder_size / 2,\n",
    "    occluder_center[0] + occluder_size / 2,\n",
    "    occluder_center[1] - occluder_size / 2,\n",
    "    occluder_center[1] + occluder_size / 2,\n",
    "]**"
   ]
  },
  {
   "cell_type": "markdown",
   "id": "bb544ccc-3a39-4bfb-9ec3-65cce72a57e1",
   "metadata": {},
   "source": [
    "- The bounds of the occluder are calculated based on its center and size. This creates a rectangular area that defines where the occluder is located in the coordinate system.\n",
    "\n",
    "### 7. **Checking for Shadow**"
   ]
  },
  {
   "cell_type": "markdown",
   "id": "c76f020b-cc79-47ca-b1ab-4df774f43de8",
   "metadata": {},
   "source": [
    "**if (\n",
    "    occluder_bounds[0] <= plane_point[0] <= occluder_bounds[1]\n",
    "    and occluder_bounds[2] <= plane_point[1] <= occluder_bounds[3]\n",
    "):\n",
    "    shadow_intensity[i, j] += 1**"
   ]
  },
  {
   "cell_type": "markdown",
   "id": "e0543f65-14b5-4ea3-8187-fa71331bb387",
   "metadata": {},
   "source": [
    "- This conditional checks if the current pixel (`plane_point`) falls within the bounds of the occluder. If it does, it indicates that the pixel is in shadow, and the shadow intensity for that pixel is incremented by 1.\n",
    "\n",
    "### 8. **Normalizing Shadow Intensity**"
   ]
  },
  {
   "cell_type": "markdown",
   "id": "abda43d4-2716-46f7-be87-b8f74e04df9c",
   "metadata": {},
   "source": [
    "**shadow_intensity /= num_point_sources**"
   ]
  },
  {
   "cell_type": "markdown",
   "id": "13ed63b2-0c48-4c6e-a263-b938b97041f4",
   "metadata": {},
   "source": [
    "- After processing all point sources, the shadow intensity values are normalized by dividing by the total number of point sources. This scales the intensity values to a range between 0 and 1, making it easier to visualize.\n",
    "\n",
    "### 9. **Return Value**"
   ]
  },
  {
   "cell_type": "markdown",
   "id": "25e99d2c-5ea9-4dd4-b9fa-19a748a5d373",
   "metadata": {},
   "source": [
    "**return shadow_intensity**"
   ]
  },
  {
   "cell_type": "markdown",
   "id": "63bfb06f-aead-48e9-a9cf-7aa8e6b8c383",
   "metadata": {},
   "source": [
    "- Finally, the function returns the normalized shadow intensity array, which can be used for visualization or further analysis.\n",
    "\n",
    "### Summary\n",
    "Overall, this code effectively simulates how shadows are cast on a plane by an occluder when illuminated by multiple point light sources. It calculates the shadow intensity for each pixel based on whether it falls within the occluder's bounds, allowing for a visual representation of the shadowing effect."
   ]
  }
 ],
 "metadata": {
  "kernelspec": {
   "display_name": "Python 3 (ipykernel)",
   "language": "python",
   "name": "python3"
  },
  "language_info": {
   "codemirror_mode": {
    "name": "ipython",
    "version": 3
   },
   "file_extension": ".py",
   "mimetype": "text/x-python",
   "name": "python",
   "nbconvert_exporter": "python",
   "pygments_lexer": "ipython3",
   "version": "3.12.4"
  }
 },
 "nbformat": 4,
 "nbformat_minor": 5
}
